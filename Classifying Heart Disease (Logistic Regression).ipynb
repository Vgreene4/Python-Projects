{
 "cells": [
  {
   "cell_type": "code",
   "execution_count": 1,
   "id": "c535b028",
   "metadata": {},
   "outputs": [
    {
     "data": {
      "text/html": [
       "<div>\n",
       "<style scoped>\n",
       "    .dataframe tbody tr th:only-of-type {\n",
       "        vertical-align: middle;\n",
       "    }\n",
       "\n",
       "    .dataframe tbody tr th {\n",
       "        vertical-align: top;\n",
       "    }\n",
       "\n",
       "    .dataframe thead th {\n",
       "        text-align: right;\n",
       "    }\n",
       "</style>\n",
       "<table border=\"1\" class=\"dataframe\">\n",
       "  <thead>\n",
       "    <tr style=\"text-align: right;\">\n",
       "      <th></th>\n",
       "      <th>Unnamed: 0</th>\n",
       "      <th>age</th>\n",
       "      <th>sex</th>\n",
       "      <th>cp</th>\n",
       "      <th>trestbps</th>\n",
       "      <th>chol</th>\n",
       "      <th>fbs</th>\n",
       "      <th>restecg</th>\n",
       "      <th>thalach</th>\n",
       "      <th>exang</th>\n",
       "      <th>oldpeak</th>\n",
       "      <th>slope</th>\n",
       "      <th>ca</th>\n",
       "      <th>thal</th>\n",
       "      <th>present</th>\n",
       "    </tr>\n",
       "  </thead>\n",
       "  <tbody>\n",
       "    <tr>\n",
       "      <th>0</th>\n",
       "      <td>1</td>\n",
       "      <td>63</td>\n",
       "      <td>1</td>\n",
       "      <td>1</td>\n",
       "      <td>145</td>\n",
       "      <td>233</td>\n",
       "      <td>1</td>\n",
       "      <td>2</td>\n",
       "      <td>150</td>\n",
       "      <td>0</td>\n",
       "      <td>2.3</td>\n",
       "      <td>3</td>\n",
       "      <td>0.0</td>\n",
       "      <td>6.0</td>\n",
       "      <td>0</td>\n",
       "    </tr>\n",
       "    <tr>\n",
       "      <th>1</th>\n",
       "      <td>2</td>\n",
       "      <td>67</td>\n",
       "      <td>1</td>\n",
       "      <td>4</td>\n",
       "      <td>160</td>\n",
       "      <td>286</td>\n",
       "      <td>0</td>\n",
       "      <td>2</td>\n",
       "      <td>108</td>\n",
       "      <td>1</td>\n",
       "      <td>1.5</td>\n",
       "      <td>2</td>\n",
       "      <td>3.0</td>\n",
       "      <td>3.0</td>\n",
       "      <td>1</td>\n",
       "    </tr>\n",
       "    <tr>\n",
       "      <th>2</th>\n",
       "      <td>3</td>\n",
       "      <td>67</td>\n",
       "      <td>1</td>\n",
       "      <td>4</td>\n",
       "      <td>120</td>\n",
       "      <td>229</td>\n",
       "      <td>0</td>\n",
       "      <td>2</td>\n",
       "      <td>129</td>\n",
       "      <td>1</td>\n",
       "      <td>2.6</td>\n",
       "      <td>2</td>\n",
       "      <td>2.0</td>\n",
       "      <td>7.0</td>\n",
       "      <td>1</td>\n",
       "    </tr>\n",
       "    <tr>\n",
       "      <th>3</th>\n",
       "      <td>4</td>\n",
       "      <td>37</td>\n",
       "      <td>1</td>\n",
       "      <td>3</td>\n",
       "      <td>130</td>\n",
       "      <td>250</td>\n",
       "      <td>0</td>\n",
       "      <td>0</td>\n",
       "      <td>187</td>\n",
       "      <td>0</td>\n",
       "      <td>3.5</td>\n",
       "      <td>3</td>\n",
       "      <td>0.0</td>\n",
       "      <td>3.0</td>\n",
       "      <td>0</td>\n",
       "    </tr>\n",
       "    <tr>\n",
       "      <th>4</th>\n",
       "      <td>5</td>\n",
       "      <td>41</td>\n",
       "      <td>0</td>\n",
       "      <td>2</td>\n",
       "      <td>130</td>\n",
       "      <td>204</td>\n",
       "      <td>0</td>\n",
       "      <td>2</td>\n",
       "      <td>172</td>\n",
       "      <td>0</td>\n",
       "      <td>1.4</td>\n",
       "      <td>1</td>\n",
       "      <td>0.0</td>\n",
       "      <td>3.0</td>\n",
       "      <td>0</td>\n",
       "    </tr>\n",
       "  </tbody>\n",
       "</table>\n",
       "</div>"
      ],
      "text/plain": [
       "   Unnamed: 0  age  sex  cp  trestbps  chol  fbs  restecg  thalach  exang  \\\n",
       "0           1   63    1   1       145   233    1        2      150      0   \n",
       "1           2   67    1   4       160   286    0        2      108      1   \n",
       "2           3   67    1   4       120   229    0        2      129      1   \n",
       "3           4   37    1   3       130   250    0        0      187      0   \n",
       "4           5   41    0   2       130   204    0        2      172      0   \n",
       "\n",
       "   oldpeak  slope   ca thal  present  \n",
       "0      2.3      3  0.0  6.0        0  \n",
       "1      1.5      2  3.0  3.0        1  \n",
       "2      2.6      2  2.0  7.0        1  \n",
       "3      3.5      3  0.0  3.0        0  \n",
       "4      1.4      1  0.0  3.0        0  "
      ]
     },
     "execution_count": 1,
     "metadata": {},
     "output_type": "execute_result"
    }
   ],
   "source": [
    "import pandas as pd\n",
    "import numpy as np\n",
    "\n",
    "heart = pd.read_csv('heart_disease.csv')\n",
    "heart.head()"
   ]
  },
  {
   "cell_type": "code",
   "execution_count": 2,
   "id": "879630ab",
   "metadata": {},
   "outputs": [
    {
     "data": {
      "image/png": "[encoded data removed]",
      "text/plain": [
       "<Figure size 432x288 with 1 Axes>"
      ]
     },
     "metadata": {
      "needs_background": "light"
     },
     "output_type": "display_data"
    }
   ],
   "source": [
    "import matplotlib.pyplot as plt\n",
    "import seaborn as sns\n",
    "%matplotlib inline\n",
    "\n",
    "sns.countplot(data = heart, x = 'present')\n",
    "plt.show()"
   ]
  },
  {
   "cell_type": "code",
   "execution_count": 3,
   "id": "95d7c552",
   "metadata": {},
   "outputs": [
    {
     "data": {
      "text/html": [
       "<div>\n",
       "<style scoped>\n",
       "    .dataframe tbody tr th:only-of-type {\n",
       "        vertical-align: middle;\n",
       "    }\n",
       "\n",
       "    .dataframe tbody tr th {\n",
       "        vertical-align: top;\n",
       "    }\n",
       "\n",
       "    .dataframe thead th {\n",
       "        text-align: right;\n",
       "    }\n",
       "</style>\n",
       "<table border=\"1\" class=\"dataframe\">\n",
       "  <thead>\n",
       "    <tr style=\"text-align: right;\">\n",
       "      <th></th>\n",
       "      <th>age</th>\n",
       "      <th>sex</th>\n",
       "      <th>cp</th>\n",
       "      <th>trestbps</th>\n",
       "      <th>chol</th>\n",
       "      <th>fbs</th>\n",
       "      <th>restecg</th>\n",
       "      <th>thalach</th>\n",
       "      <th>exang</th>\n",
       "      <th>oldpeak</th>\n",
       "      <th>slope</th>\n",
       "      <th>ca</th>\n",
       "      <th>thal</th>\n",
       "    </tr>\n",
       "    <tr>\n",
       "      <th>present</th>\n",
       "      <th></th>\n",
       "      <th></th>\n",
       "      <th></th>\n",
       "      <th></th>\n",
       "      <th></th>\n",
       "      <th></th>\n",
       "      <th></th>\n",
       "      <th></th>\n",
       "      <th></th>\n",
       "      <th></th>\n",
       "      <th></th>\n",
       "      <th></th>\n",
       "      <th></th>\n",
       "    </tr>\n",
       "  </thead>\n",
       "  <tbody>\n",
       "    <tr>\n",
       "      <th>0</th>\n",
       "      <td>52.585366</td>\n",
       "      <td>0.560976</td>\n",
       "      <td>2.792683</td>\n",
       "      <td>129.250000</td>\n",
       "      <td>242.640244</td>\n",
       "      <td>0.140244</td>\n",
       "      <td>0.835366</td>\n",
       "      <td>158.378049</td>\n",
       "      <td>0.140244</td>\n",
       "      <td>0.586585</td>\n",
       "      <td>1.408537</td>\n",
       "      <td>0.268293</td>\n",
       "      <td>0.268293</td>\n",
       "    </tr>\n",
       "    <tr>\n",
       "      <th>1</th>\n",
       "      <td>56.625899</td>\n",
       "      <td>0.820144</td>\n",
       "      <td>3.589928</td>\n",
       "      <td>134.568345</td>\n",
       "      <td>251.474820</td>\n",
       "      <td>0.158273</td>\n",
       "      <td>1.172662</td>\n",
       "      <td>139.258993</td>\n",
       "      <td>0.546763</td>\n",
       "      <td>1.574101</td>\n",
       "      <td>1.827338</td>\n",
       "      <td>1.129496</td>\n",
       "      <td>1.129496</td>\n",
       "    </tr>\n",
       "  </tbody>\n",
       "</table>\n",
       "</div>"
      ],
      "text/plain": [
       "               age       sex        cp    trestbps        chol       fbs  \\\n",
       "present                                                                    \n",
       "0        52.585366  0.560976  2.792683  129.250000  242.640244  0.140244   \n",
       "1        56.625899  0.820144  3.589928  134.568345  251.474820  0.158273   \n",
       "\n",
       "          restecg     thalach     exang   oldpeak     slope        ca  \\\n",
       "present                                                                 \n",
       "0        0.835366  158.378049  0.140244  0.586585  1.408537  0.268293   \n",
       "1        1.172662  139.258993  0.546763  1.574101  1.827338  1.129496   \n",
       "\n",
       "             thal  \n",
       "present            \n",
       "0        0.268293  \n",
       "1        1.129496  "
      ]
     },
     "execution_count": 3,
     "metadata": {},
     "output_type": "execute_result"
    }
   ],
   "source": [
    "heart['ca'] = heart['ca'].replace(\"?\", 0.0)\n",
    "heart['ca'] = heart['ca'].astype('float')\n",
    "heart['thal'] = heart['thal'].replace(\"?\", 3.0)\n",
    "heart['thal'] = heart['ca'].astype('float')\n",
    "\n",
    "heart.groupby('present').agg({'age': 'mean',\n",
    "                                'sex': 'mean',\n",
    "                                'cp': 'mean',\n",
    "                                'trestbps': 'mean',\n",
    "                                 'chol': 'mean',\n",
    "                                 'fbs': 'mean',\n",
    "                                 'restecg': 'mean',\n",
    "                                 'thalach': 'mean',\n",
    "                                 'exang': 'mean',\n",
    "                                'oldpeak': 'mean',\n",
    "                                 'slope': 'mean',\n",
    "                                  'ca': 'mean',\n",
    "                                   'thal': 'mean'\n",
    "                                 })\n"
   ]
  },
  {
   "cell_type": "code",
   "execution_count": 4,
   "id": "82701c73",
   "metadata": {},
   "outputs": [
    {
     "name": "stdout",
     "output_type": "stream",
     "text": [
      "[[108  23]\n",
      " [ 36  75]]\n",
      "The training accuracy of this model is 75.62%.\n",
      "The training sensitivity of this model is 67.57%.\n",
      "The training specificity of this model is 82.44%.\n"
     ]
    }
   ],
   "source": [
    "from sklearn.linear_model import LogisticRegression\n",
    "from sklearn.metrics import confusion_matrix\n",
    "from sklearn.model_selection import train_test_split\n",
    "\n",
    "X = heart[['age', 'thalach', 'restecg', 'ca']]\n",
    "y = heart['present']\n",
    "\n",
    "model1 = LogisticRegression()\n",
    "X_train, X_test, y_train, y_test = train_test_split(X, y, test_size = .2, random_state = 727)\n",
    "\n",
    "model1.fit(X_train, y_train)\n",
    "predictions = model1.predict(X_train)\n",
    "tp = sum((y_train == 1) & (predictions == 1))\n",
    "tn = sum((y_train == 0) & (predictions == 0))\n",
    "fp = sum((y_train == 0) & (predictions == 1))\n",
    "fn = sum((y_train == 1) & (predictions == 0))\n",
    "\n",
    "accuracy = (tp+tn)/len(y_train)\n",
    "sens = tp / (tp + fn)\n",
    "spec = tn / (tn + fp)\n",
    "print(confusion_matrix(y_train, predictions))\n",
    "print(\"The training accuracy of this model is {}%.\".format(round(accuracy, 4)*100))\n",
    "print(\"The training sensitivity of this model is {}%.\".format(round(sens, 4)*100))\n",
    "print(\"The training specificity of this model is {}%.\".format(round(spec, 4)*100))"
   ]
  },
  {
   "cell_type": "markdown",
   "id": "fb87bade",
   "metadata": {},
   "source": [
    "The model is good at correctly prediction negative cases, but could use some help correctly identifying positive cases. Overall, the model is semi-accurate but needs some work."
   ]
  },
  {
   "cell_type": "code",
   "execution_count": 5,
   "id": "17578d98",
   "metadata": {},
   "outputs": [
    {
     "data": {
      "text/plain": [
       "array([[-0.03176416, -0.04446588,  0.18599619,  1.19083369]])"
      ]
     },
     "execution_count": 5,
     "metadata": {},
     "output_type": "execute_result"
    }
   ],
   "source": [
    "coefficients = model1.coef_\n",
    "coefficients"
   ]
  },
  {
   "cell_type": "code",
   "execution_count": 6,
   "id": "f18b73fa",
   "metadata": {},
   "outputs": [
    {
     "data": {
      "text/plain": [
       "array([[0.96873502, 0.95650824, 1.20441767, 3.28982274]])"
      ]
     },
     "execution_count": 6,
     "metadata": {},
     "output_type": "execute_result"
    }
   ],
   "source": [
    "odds = np.exp(coefficients)\n",
    "odds"
   ]
  },
  {
   "cell_type": "markdown",
   "id": "734b5a23",
   "metadata": {},
   "source": [
    "Examining the odds we were able to gather from the coefficients, we see that holding other predictors constant it appears as though an increase in age and maximum heartrate lead to lower odds of heart disease. However, seeing as the odds are close to 1 this result isn't too inconcevible. \n",
    "\n",
    "Otherwise, we see that an increase in resting heart rate or in the number of vessels colored by the flourosopy with other predictors held constant increases the odds of heart disease by 20% and 229% respectively."
   ]
  },
  {
   "cell_type": "code",
   "execution_count": 7,
   "id": "9e17e440",
   "metadata": {},
   "outputs": [
    {
     "name": "stdout",
     "output_type": "stream",
     "text": [
      "[[27  6]\n",
      " [ 9 19]]\n",
      "The test accuracy of this model is 75.41%.\n",
      "The test sensitivity of this model is 67.86%.\n",
      "The test specificity of this model is 81.8%.\n"
     ]
    }
   ],
   "source": [
    "predictions = model1.predict(X_test)\n",
    "tp = sum((y_test == 1) & (predictions == 1))\n",
    "tn = sum((y_test == 0) & (predictions == 0))\n",
    "fp = sum((y_test == 0) & (predictions == 1))\n",
    "fn = sum((y_test == 1) & (predictions == 0))\n",
    "\n",
    "accuracy = model1.score(X_test, y_test)\n",
    "sens = tp / (tp + fn)\n",
    "spec = tn / (tn + fp)\n",
    "print(confusion_matrix(y_test, predictions))\n",
    "print(\"The test accuracy of this model is {}%.\".format(round(accuracy, 4)*100))\n",
    "print(\"The test sensitivity of this model is {}%.\".format(round(sens, 4)*100))\n",
    "print(\"The test specificity of this model is {}%.\".format(round(spec, 3)*100))"
   ]
  },
  {
   "cell_type": "markdown",
   "id": "fe761812",
   "metadata": {},
   "source": [
    "We see virtually no change in our test accuracy from our training accuracy, and we still see that we are far better at correctly identifying non-cases than cases. "
   ]
  },
  {
   "cell_type": "markdown",
   "id": "d2bc510c",
   "metadata": {},
   "source": [
    "Now we'll see if our model's accuracy improves if we only consider patients with high cholesterol, a known predictor of heart disease."
   ]
  },
  {
   "cell_type": "code",
   "execution_count": 8,
   "id": "82c08386",
   "metadata": {},
   "outputs": [
    {
     "name": "stdout",
     "output_type": "stream",
     "text": [
      "109\n"
     ]
    },
    {
     "data": {
      "image/png": "[encoded data removed]",
      "text/plain": [
       "<Figure size 432x288 with 1 Axes>"
      ]
     },
     "metadata": {
      "needs_background": "light"
     },
     "output_type": "display_data"
    }
   ],
   "source": [
    "sns.boxplot(data = heart, x = \"chol\")\n",
    "high_cholesterol = heart[heart[\"chol\"] >= 260]\n",
    "print(len(high_cholesterol))"
   ]
  },
  {
   "cell_type": "markdown",
   "id": "6f39ddb7",
   "metadata": {},
   "source": [
    "We can see that a cholesterol level of 260 is roughly the third quartile marker of the overall distribution of cholesterol in the dataset, so we will call this \"high cholesterol\"."
   ]
  },
  {
   "cell_type": "code",
   "execution_count": 11,
   "id": "d81c4b01",
   "metadata": {},
   "outputs": [
    {
     "name": "stdout",
     "output_type": "stream",
     "text": [
      "[[28 10]\n",
      " [12 37]]\n",
      "The training accuracy of this model is 74.71%.\n",
      "The training sensitivity of this model is 75.51%.\n",
      "The training specificity of this model is 74.0%.\n"
     ]
    }
   ],
   "source": [
    "X_high = high_cholesterol[['age', 'thalach', 'restecg', 'ca']]\n",
    "y_high = high_cholesterol[\"present\"]\n",
    "\n",
    "X_train, X_test, y_train, y_test = train_test_split(X_high, y_high, test_size = .20, random_state = 100)\n",
    "model2 = LogisticRegression()\n",
    "model2.fit(X_train, y_train)\n",
    "hc_train_predictions = model2.predict(X_train)\n",
    "\n",
    "tp = sum((y_train == 1) & (hc_train_predictions == 1))\n",
    "tn = sum((y_train == 0) & (hc_train_predictions == 0))\n",
    "fp = sum((y_train == 0) & (hc_train_predictions == 1))\n",
    "fn = sum((y_train == 1) & (hc_train_predictions == 0))\n",
    "\n",
    "accuracy = model2.score(X_train, y_train)\n",
    "sens = tp / (tp + fn)\n",
    "spec = tn / (tn + fp)\n",
    "print(confusion_matrix(y_train, hc_train_predictions))\n",
    "print(\"The training accuracy of this model is {}%.\".format(round(accuracy, 4)*100))\n",
    "print(\"The training sensitivity of this model is {}%.\".format(round(sens, 4)*100))\n",
    "print(\"The training specificity of this model is {}%.\".format(round(spec, 2)*100))"
   ]
  },
  {
   "cell_type": "code",
   "execution_count": 12,
   "id": "6ed1d204",
   "metadata": {},
   "outputs": [
    {
     "name": "stdout",
     "output_type": "stream",
     "text": [
      "[[10  3]\n",
      " [ 3  6]]\n",
      "The test accuracy of this model is 72.72999999999999%.\n",
      "The test sensitivity of this model is 66.67%.\n",
      "The test specificity of this model is 77.0%.\n"
     ]
    }
   ],
   "source": [
    "hc_test_predictions = model2.predict(X_test)\n",
    "hc_test_accuracy = model2.score(X_test, y_test)\n",
    "\n",
    "tp = sum((y_test == 1) & (hc_test_predictions == 1))\n",
    "tn = sum((y_test == 0) & (hc_test_predictions == 0))\n",
    "fp = sum((y_test == 0) & (hc_test_predictions == 1))\n",
    "fn = sum((y_test == 1) & (hc_test_predictions == 0))\n",
    "\n",
    "accuracy = model2.score(X_test, y_test)\n",
    "sens = tp / (tp + fn)\n",
    "spec = tn / (tn + fp)\n",
    "print(confusion_matrix(y_test, hc_test_predictions))\n",
    "print(\"The test accuracy of this model is {}%.\".format(round(accuracy, 4)*100))\n",
    "print(\"The test sensitivity of this model is {}%.\".format(round(sens, 4)*100))\n",
    "print(\"The test specificity of this model is {}%.\".format(round(spec, 2)*100))"
   ]
  },
  {
   "cell_type": "markdown",
   "id": "bffa34a8",
   "metadata": {},
   "source": [
    "We can see that when only considering patients with high cholesterol and using our initial features in the model it performs far worse than our initial model wich predicted outcomes for patients regardless of their cholesterol levels."
   ]
  }
 ],
 "metadata": {
  "kernelspec": {
   "display_name": "Python 3 (ipykernel)",
   "language": "python",
   "name": "python3"
  },
  "language_info": {
   "codemirror_mode": {
    "name": "ipython",
    "version": 3
   },
   "file_extension": ".py",
   "mimetype": "text/x-python",
   "name": "python",
   "nbconvert_exporter": "python",
   "pygments_lexer": "ipython3",
   "version": "3.9.12"
  }
 },
 "nbformat": 4,
 "nbformat_minor": 5
}
