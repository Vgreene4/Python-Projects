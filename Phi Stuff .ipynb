{
 "cells": [
  {
   "cell_type": "code",
   "execution_count": 1,
   "id": "4b6bdb09",
   "metadata": {},
   "outputs": [
    {
     "data": {
      "text/plain": [
       "('sad', (0, 1))"
      ]
     },
     "execution_count": 1,
     "metadata": {},
     "output_type": "execute_result"
    }
   ],
   "source": [
    "def sumset(x,y,n,h):\n",
    "    sumset=[]\n",
    "    for i in range(0, h+1):\n",
    "        num= x*i + y*(h-i)\n",
    "        num= num%n\n",
    "        if num not in sumset:\n",
    "            sumset.append(num)\n",
    "    for k in range(-h, 1):\n",
    "        snum= x*k + y*(h+k)\n",
    "        snum= snum%n\n",
    "        if snum< 0:\n",
    "            snum= n+snum\n",
    "        if snum not in sumset:\n",
    "            sumset.append(snum)\n",
    "    for l in range(-h, 1):\n",
    "        tnum= y*l + x*(h+l)\n",
    "        tnum= tnum%n\n",
    "        if tnum< 0:\n",
    "            tnum= n+tnum\n",
    "        if tnum not in sumset:\n",
    "            sumset.append(tnum)\n",
    "    for m in range(-h, 1):\n",
    "        fnum= x*m + y*(h+m)\n",
    "        fnum= fnum%n\n",
    "        if fnum not in sumset:\n",
    "            sumset.append(fnum)\n",
    "    sumset.sort()\n",
    "    if len(sumset)< n:\n",
    "        return \"sad\", (x,y)\n",
    "\n",
    "\n",
    "sumset(0,1,229,112)\n",
    "\n",
    "\n",
    "        \n",
    "        \n",
    "        "
   ]
  },
  {
   "cell_type": "code",
   "execution_count": 1,
   "id": "d537571d",
   "metadata": {},
   "outputs": [
    {
     "data": {
      "text/plain": [
       "(1, 9)"
      ]
     },
     "execution_count": 1,
     "metadata": {},
     "output_type": "execute_result"
    }
   ],
   "source": [
    "def sumset(n,h):\n",
    "    for x in range(0,h):\n",
    "        for y in range(1,h+1):\n",
    "            sumset=[]\n",
    "            for i in range(0, h+1):\n",
    "                num= x*i + y*(h-i)\n",
    "                num= num%n\n",
    "                if num not in sumset:\n",
    "                    sumset.append(num)\n",
    "            for k in range(-h, 1):\n",
    "                snum= x*k + y*(h+k)\n",
    "                snum= snum%n\n",
    "                if snum< 0:\n",
    "                    snum= n+snum\n",
    "                if snum not in sumset:\n",
    "                    sumset.append(snum)\n",
    "            for l in range(-h, 1):\n",
    "                tnum= y*l + x*(h+l)\n",
    "                tnum= tnum%n\n",
    "                if tnum< 0:\n",
    "                    tnum= n+tnum\n",
    "                if tnum not in sumset:\n",
    "                    sumset.append(tnum)\n",
    "            for m in range(-h, 1):\n",
    "                fnum= x*m + y*(-h-m)\n",
    "                fnum= fnum%n\n",
    "                if fnum not in sumset:\n",
    "                    sumset.append(fnum)\n",
    "            sumset.sort()\n",
    "            if n==len(sumset):\n",
    "                return (x,y)\n",
    "            if len(sumset)!= n:\n",
    "                sumset.clear()\n",
    "\n",
    "        \n",
    "    \n",
    "\n",
    "sumset(351,156)"
   ]
  },
  {
   "cell_type": "code",
   "execution_count": 2,
   "id": "c48df7c7",
   "metadata": {},
   "outputs": [
    {
     "data": {
      "text/plain": [
       "[323,\n",
       " 325,\n",
       " 327,\n",
       " 331,\n",
       " 333,\n",
       " 337,\n",
       " 339,\n",
       " 343,\n",
       " 349,\n",
       " 351,\n",
       " 353,\n",
       " 355,\n",
       " 361,\n",
       " 367,\n",
       " 373,\n",
       " 379,\n",
       " 385,\n",
       " 391,\n",
       " 397]"
      ]
     },
     "execution_count": 2,
     "metadata": {},
     "output_type": "execute_result"
    }
   ],
   "source": [
    "def sumset(h):\n",
    "    funlist=[]\n",
    "    for n in range(int((2*h)+3), int(((5*h)/2)-2)):\n",
    "            for x in range(0,h):\n",
    "                if n in funlist:\n",
    "                    break\n",
    "                if x>(3):\n",
    "                    break\n",
    "                for y in range(1,h+1):\n",
    "                    sumset=[]\n",
    "                    for i in range(0, h+1):\n",
    "                        num= x*i + y*(h-i)\n",
    "                        num= num%n\n",
    "                        if num not in sumset:\n",
    "                            sumset.append(num)\n",
    "                    for k in range(-h, 1):\n",
    "                        snum= x*k + y*(h+k)\n",
    "                        snum= snum%n\n",
    "                        if snum< 0:\n",
    "                            snum= n+snum\n",
    "                        if snum not in sumset:\n",
    "                            sumset.append(snum)\n",
    "                    for l in range(-h, 1):\n",
    "                        tnum= y*l + x*(h+l)\n",
    "                        tnum= tnum%n\n",
    "                        if tnum< 0:\n",
    "                            tnum= n+tnum\n",
    "                        if tnum not in sumset:\n",
    "                            sumset.append(tnum)\n",
    "                    for m in range(-h, 1):\n",
    "                        fnum= x*m + y*(-h-m)\n",
    "                        fnum= fnum%n\n",
    "                        if fnum not in sumset:\n",
    "                            sumset.append(fnum)\n",
    "                    sumset.sort()\n",
    "                    if n==len(sumset) and (n not in funlist):\n",
    "                        funlist.append(n)\n",
    "                        break\n",
    "                    if len(sumset)!= n:\n",
    "                        sumset.clear()\n",
    "    return funlist\n",
    "sumset(160)\n"
   ]
  },
  {
   "cell_type": "markdown",
   "id": "55c92caf",
   "metadata": {},
   "source": [
    "These functions are used when determining h-spanning sets of cyclic groups. I used these programs when researching questions in additive combinatorics. "
   ]
  },
  {
   "cell_type": "code",
   "execution_count": null,
   "id": "4ccedf48",
   "metadata": {},
   "outputs": [],
   "source": []
  },
  {
   "cell_type": "code",
   "execution_count": null,
   "id": "459faef6",
   "metadata": {},
   "outputs": [],
   "source": []
  }
 ],
 "metadata": {
  "kernelspec": {
   "display_name": "Python 3 (ipykernel)",
   "language": "python",
   "name": "python3"
  },
  "language_info": {
   "codemirror_mode": {
    "name": "ipython",
    "version": 3
   },
   "file_extension": ".py",
   "mimetype": "text/x-python",
   "name": "python",
   "nbconvert_exporter": "python",
   "pygments_lexer": "ipython3",
   "version": "3.9.12"
  }
 },
 "nbformat": 4,
 "nbformat_minor": 5
}
