{
  "metadata": {
    "language_info": {
      "codemirror_mode": {
        "name": "python",
        "version": 3
      },
      "file_extension": ".py",
      "mimetype": "text/x-python",
      "name": "python",
      "nbconvert_exporter": "python",
      "pygments_lexer": "ipython3",
      "version": "3.8"
    },
    "kernelspec": {
      "name": "python",
      "display_name": "Python (Pyodide)",
      "language": "python"
    },
    "colab": {
      "provenance": []
    }
  },
  "nbformat_minor": 0,
  "nbformat": 4,
  "cells": [
    {
      "cell_type": "code",
      "source": [
        "h = 100\n",
        "n = 247\n",
        "subset = [1,5]\n",
        "\n",
        "#We only check if the h-fold sumset of the subset spans the group and we show every element generated along the way\n",
        "def pm_sum_check(n, h, subset):\n",
        "    sumset = set()\n",
        "    for i in range(-h, h+1):\n",
        "        sums = (i*subset[0] + (abs(i)-h)*subset[1])%n\n",
        "        print(i*subset[0], (abs(i)-h)*subset[1], (i*subset[0] + (abs(i)-h)*subset[1])%n)\n",
        "        sums2 = (i*subset[0] + (h-abs(i))*subset[1])%n\n",
        "        print(i*subset[0], (h-abs(i))*subset[1], (i*subset[0] + (h-abs(i))*subset[1])%n)\n",
        "        sumset.add(sums)\n",
        "        sumset.add(sums2)\n",
        "    return len(sumset) == n\n"
      ],
      "metadata": {
        "trusted": true,
        "id": "RHvw_6GMaY4w"
      },
      "execution_count": 2,
      "outputs": []
    },
    {
      "cell_type": "code",
      "source": [
        "from itertools import combinations\n",
        "\n",
        "#We find every m-element subset that gives us an h-fold sumset of length n, or we simply check if such a subset exists\n",
        "def pmun_phi_sub_getter(n, m, h, just_check = False):\n",
        "    if just_check == True:\n",
        "        subsets = []\n",
        "        for combo in combinations(range(n), m):\n",
        "            if pm_sum_check(n, h, combo) == True:\n",
        "                return \"The subset {} works. Yay!\".format(combo)\n",
        "            else:\n",
        "                continue\n",
        "        return \"No results found. Try changing the criteria :(\"\n",
        "\n",
        "    elif just_check ==  False:\n",
        "        subsets = []\n",
        "        for combo in combinations(range(n), m):\n",
        "            if pm_sum_check(n, h, combo) == True:\n",
        "                subsets.append(combo)\n",
        "            else:\n",
        "                continue\n",
        "        return subsets\n",
        "\n",
        "pmun_phi_sub_getter(247, 2, 100, True)"
      ],
      "metadata": {
        "trusted": true,
        "colab": {
          "base_uri": "https://localhost:8080/",
          "height": 35
        },
        "id": "T_PcDuLqaY4z",
        "outputId": "ae438322-2f03-449f-f484-4f3d40a9fb43"
      },
      "execution_count": null,
      "outputs": [
        {
          "output_type": "execute_result",
          "data": {
            "text/plain": [
              "'The subset (1, 5) works. Yay!'"
            ],
            "application/vnd.google.colaboratory.intrinsic+json": {
              "type": "string"
            }
          },
          "metadata": {},
          "execution_count": 13
        }
      ]
    },
    {
      "cell_type": "code",
      "source": [
        "from itertools import combinations, chain\n",
        "\n",
        "def powerset(iterable):\n",
        "    \"powerset([1,2,3]) --> () (1,) (2,) (3,) (1,2) (1,3) (2,3) (1,2,3)\"\n",
        "    s = list(iterable)\n",
        "    return chain.from_iterable(combinations(s, r) for r in range(len(s)+1))\n",
        "\n",
        "def get_subsets(array):\n",
        "  sub_list = []\n",
        "  for s in powerset(array):\n",
        "    sub_list.append(list(s))\n",
        "  return sub_list\n",
        "\n",
        "#This gives us all subsets of a given set"
      ],
      "metadata": {
        "trusted": true,
        "id": "xUgCQf2GaY4z"
      },
      "execution_count": null,
      "outputs": []
    },
    {
      "cell_type": "code",
      "source": [
        "def biggest(h):\n",
        "  quart = h/4\n",
        "  return (9/4)*h + (quart -5) +2\n",
        "biggest(92)"
      ],
      "metadata": {
        "id": "8nUFpwfFaY40",
        "colab": {
          "base_uri": "https://localhost:8080/"
        },
        "outputId": "7c3695d4-a72e-4d78-ba9c-cd915b46265a"
      },
      "execution_count": null,
      "outputs": [
        {
          "output_type": "execute_result",
          "data": {
            "text/plain": [
              "227.0"
            ]
          },
          "metadata": {},
          "execution_count": 52
        }
      ]
    },
    {
      "cell_type": "code",
      "source": [
        "def smallest(h):\n",
        "  quart = h/4\n",
        "  return 9*quart + 2\n",
        "\n",
        "smallest(92)"
      ],
      "metadata": {
        "colab": {
          "base_uri": "https://localhost:8080/"
        },
        "id": "aLo_BAZnnjuB",
        "outputId": "7a317ebf-73ed-4c60-9966-e01c4a658935"
      },
      "execution_count": null,
      "outputs": [
        {
          "output_type": "execute_result",
          "data": {
            "text/plain": [
              "209.0"
            ]
          },
          "metadata": {},
          "execution_count": 55
        }
      ]
    }
  ]
}